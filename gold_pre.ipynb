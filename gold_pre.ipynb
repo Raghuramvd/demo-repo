{
  "nbformat": 4,
  "nbformat_minor": 0,
  "metadata": {
    "colab": {
      "name": "gold_pre.ipynb",
      "provenance": [],
      "collapsed_sections": [],
      "mount_file_id": "1JaQYh0c9UUI7-1Ro1uGMCAmvAtYBpYuI",
      "authorship_tag": "ABX9TyMfYrHCKj6VlDseifQ9wSB0",
      "include_colab_link": true
    },
    "kernelspec": {
      "name": "python3",
      "display_name": "Python 3"
    },
    "language_info": {
      "name": "python"
    }
  },
  "cells": [
    {
      "cell_type": "markdown",
      "metadata": {
        "id": "view-in-github",
        "colab_type": "text"
      },
      "source": [
        "<a href=\"https://colab.research.google.com/github/Raghuramvd/demo-repo/blob/main/gold_pre.ipynb\" target=\"_parent\"><img src=\"https://colab.research.google.com/assets/colab-badge.svg\" alt=\"Open In Colab\"/></a>"
      ]
    },
    {
      "cell_type": "markdown",
      "metadata": {
        "id": "NqS8Q6b1lO4n"
      },
      "source": [
        "Importing libraries"
      ]
    },
    {
      "cell_type": "code",
      "metadata": {
        "id": "HZ4Aewjxl1LH"
      },
      "source": [
        "import numpy as np\n",
        "import pandas as pd\n",
        "import matplotlib.pyplot as plt\n",
        "import seaborn as sns\n",
        "from sklearn.model_selection import train_test_split\n",
        "from sklearn.ensemble import RandomForestRegressor\n",
        "from sklearn import metrics\n",
        "from sklearn.linear_model import LinearRegression"
      ],
      "execution_count": 49,
      "outputs": []
    },
    {
      "cell_type": "code",
      "metadata": {
        "id": "eXewpXS7mxCN"
      },
      "source": [
        ""
      ],
      "execution_count": null,
      "outputs": []
    },
    {
      "cell_type": "markdown",
      "metadata": {
        "id": "28QDAf3GnAVx"
      },
      "source": [
        "Data collection and processing"
      ]
    },
    {
      "cell_type": "code",
      "metadata": {
        "id": "rPchAQnznC8j"
      },
      "source": [
        "#loading csv to pandas data frame\n",
        "gold_data = pd.read_csv('/content/gld_price_data.csv')"
      ],
      "execution_count": null,
      "outputs": []
    },
    {
      "cell_type": "code",
      "metadata": {
        "colab": {
          "base_uri": "https://localhost:8080/",
          "height": 206
        },
        "id": "9V8f16VcnWNy",
        "outputId": "0b0c5981-4c07-4c6c-a6df-f9e58b2cb626"
      },
      "source": [
        "#print first five rows\n",
        "gold_data.head()"
      ],
      "execution_count": null,
      "outputs": [
        {
          "output_type": "execute_result",
          "data": {
            "text/html": [
              "<div>\n",
              "<style scoped>\n",
              "    .dataframe tbody tr th:only-of-type {\n",
              "        vertical-align: middle;\n",
              "    }\n",
              "\n",
              "    .dataframe tbody tr th {\n",
              "        vertical-align: top;\n",
              "    }\n",
              "\n",
              "    .dataframe thead th {\n",
              "        text-align: right;\n",
              "    }\n",
              "</style>\n",
              "<table border=\"1\" class=\"dataframe\">\n",
              "  <thead>\n",
              "    <tr style=\"text-align: right;\">\n",
              "      <th></th>\n",
              "      <th>Date</th>\n",
              "      <th>SPX</th>\n",
              "      <th>GLD</th>\n",
              "      <th>USO</th>\n",
              "      <th>SLV</th>\n",
              "      <th>EUR/USD</th>\n",
              "    </tr>\n",
              "  </thead>\n",
              "  <tbody>\n",
              "    <tr>\n",
              "      <th>0</th>\n",
              "      <td>1/2/2008</td>\n",
              "      <td>1447.160034</td>\n",
              "      <td>84.860001</td>\n",
              "      <td>78.470001</td>\n",
              "      <td>15.180</td>\n",
              "      <td>1.471692</td>\n",
              "    </tr>\n",
              "    <tr>\n",
              "      <th>1</th>\n",
              "      <td>1/3/2008</td>\n",
              "      <td>1447.160034</td>\n",
              "      <td>85.570000</td>\n",
              "      <td>78.370003</td>\n",
              "      <td>15.285</td>\n",
              "      <td>1.474491</td>\n",
              "    </tr>\n",
              "    <tr>\n",
              "      <th>2</th>\n",
              "      <td>1/4/2008</td>\n",
              "      <td>1411.630005</td>\n",
              "      <td>85.129997</td>\n",
              "      <td>77.309998</td>\n",
              "      <td>15.167</td>\n",
              "      <td>1.475492</td>\n",
              "    </tr>\n",
              "    <tr>\n",
              "      <th>3</th>\n",
              "      <td>1/7/2008</td>\n",
              "      <td>1416.180054</td>\n",
              "      <td>84.769997</td>\n",
              "      <td>75.500000</td>\n",
              "      <td>15.053</td>\n",
              "      <td>1.468299</td>\n",
              "    </tr>\n",
              "    <tr>\n",
              "      <th>4</th>\n",
              "      <td>1/8/2008</td>\n",
              "      <td>1390.189941</td>\n",
              "      <td>86.779999</td>\n",
              "      <td>76.059998</td>\n",
              "      <td>15.590</td>\n",
              "      <td>1.557099</td>\n",
              "    </tr>\n",
              "  </tbody>\n",
              "</table>\n",
              "</div>"
            ],
            "text/plain": [
              "       Date          SPX        GLD        USO     SLV   EUR/USD\n",
              "0  1/2/2008  1447.160034  84.860001  78.470001  15.180  1.471692\n",
              "1  1/3/2008  1447.160034  85.570000  78.370003  15.285  1.474491\n",
              "2  1/4/2008  1411.630005  85.129997  77.309998  15.167  1.475492\n",
              "3  1/7/2008  1416.180054  84.769997  75.500000  15.053  1.468299\n",
              "4  1/8/2008  1390.189941  86.779999  76.059998  15.590  1.557099"
            ]
          },
          "metadata": {
            "tags": []
          },
          "execution_count": 4
        }
      ]
    },
    {
      "cell_type": "code",
      "metadata": {
        "colab": {
          "base_uri": "https://localhost:8080/",
          "height": 206
        },
        "id": "-dCUh6vInfYx",
        "outputId": "cfc3013c-2781-4afb-94e3-b0f583c5ca2e"
      },
      "source": [
        "#print last five data frame\n",
        "gold_data.tail()\n"
      ],
      "execution_count": null,
      "outputs": [
        {
          "output_type": "execute_result",
          "data": {
            "text/html": [
              "<div>\n",
              "<style scoped>\n",
              "    .dataframe tbody tr th:only-of-type {\n",
              "        vertical-align: middle;\n",
              "    }\n",
              "\n",
              "    .dataframe tbody tr th {\n",
              "        vertical-align: top;\n",
              "    }\n",
              "\n",
              "    .dataframe thead th {\n",
              "        text-align: right;\n",
              "    }\n",
              "</style>\n",
              "<table border=\"1\" class=\"dataframe\">\n",
              "  <thead>\n",
              "    <tr style=\"text-align: right;\">\n",
              "      <th></th>\n",
              "      <th>Date</th>\n",
              "      <th>SPX</th>\n",
              "      <th>GLD</th>\n",
              "      <th>USO</th>\n",
              "      <th>SLV</th>\n",
              "      <th>EUR/USD</th>\n",
              "    </tr>\n",
              "  </thead>\n",
              "  <tbody>\n",
              "    <tr>\n",
              "      <th>2285</th>\n",
              "      <td>5/8/2018</td>\n",
              "      <td>2671.919922</td>\n",
              "      <td>124.589996</td>\n",
              "      <td>14.0600</td>\n",
              "      <td>15.5100</td>\n",
              "      <td>1.186789</td>\n",
              "    </tr>\n",
              "    <tr>\n",
              "      <th>2286</th>\n",
              "      <td>5/9/2018</td>\n",
              "      <td>2697.790039</td>\n",
              "      <td>124.330002</td>\n",
              "      <td>14.3700</td>\n",
              "      <td>15.5300</td>\n",
              "      <td>1.184722</td>\n",
              "    </tr>\n",
              "    <tr>\n",
              "      <th>2287</th>\n",
              "      <td>5/10/2018</td>\n",
              "      <td>2723.070068</td>\n",
              "      <td>125.180000</td>\n",
              "      <td>14.4100</td>\n",
              "      <td>15.7400</td>\n",
              "      <td>1.191753</td>\n",
              "    </tr>\n",
              "    <tr>\n",
              "      <th>2288</th>\n",
              "      <td>5/14/2018</td>\n",
              "      <td>2730.129883</td>\n",
              "      <td>124.489998</td>\n",
              "      <td>14.3800</td>\n",
              "      <td>15.5600</td>\n",
              "      <td>1.193118</td>\n",
              "    </tr>\n",
              "    <tr>\n",
              "      <th>2289</th>\n",
              "      <td>5/16/2018</td>\n",
              "      <td>2725.780029</td>\n",
              "      <td>122.543800</td>\n",
              "      <td>14.4058</td>\n",
              "      <td>15.4542</td>\n",
              "      <td>1.182033</td>\n",
              "    </tr>\n",
              "  </tbody>\n",
              "</table>\n",
              "</div>"
            ],
            "text/plain": [
              "           Date          SPX         GLD      USO      SLV   EUR/USD\n",
              "2285   5/8/2018  2671.919922  124.589996  14.0600  15.5100  1.186789\n",
              "2286   5/9/2018  2697.790039  124.330002  14.3700  15.5300  1.184722\n",
              "2287  5/10/2018  2723.070068  125.180000  14.4100  15.7400  1.191753\n",
              "2288  5/14/2018  2730.129883  124.489998  14.3800  15.5600  1.193118\n",
              "2289  5/16/2018  2725.780029  122.543800  14.4058  15.4542  1.182033"
            ]
          },
          "metadata": {
            "tags": []
          },
          "execution_count": 5
        }
      ]
    },
    {
      "cell_type": "code",
      "metadata": {
        "colab": {
          "base_uri": "https://localhost:8080/"
        },
        "id": "9moae54UpbDA",
        "outputId": "41407a73-630a-4238-af0c-8b0b95e56d8d"
      },
      "source": [
        "#number of rows and columns\n",
        "gold_data.shape"
      ],
      "execution_count": null,
      "outputs": [
        {
          "output_type": "execute_result",
          "data": {
            "text/plain": [
              "(2290, 6)"
            ]
          },
          "metadata": {
            "tags": []
          },
          "execution_count": 6
        }
      ]
    },
    {
      "cell_type": "code",
      "metadata": {
        "colab": {
          "base_uri": "https://localhost:8080/"
        },
        "id": "q3K27sQfpoNp",
        "outputId": "6a5edc8a-a5a6-40ff-8939-ecf932dd366c"
      },
      "source": [
        "#getting some basic info about data\n",
        "gold_data.info()\n"
      ],
      "execution_count": null,
      "outputs": [
        {
          "output_type": "stream",
          "text": [
            "<class 'pandas.core.frame.DataFrame'>\n",
            "RangeIndex: 2290 entries, 0 to 2289\n",
            "Data columns (total 6 columns):\n",
            " #   Column   Non-Null Count  Dtype  \n",
            "---  ------   --------------  -----  \n",
            " 0   Date     2290 non-null   object \n",
            " 1   SPX      2290 non-null   float64\n",
            " 2   GLD      2290 non-null   float64\n",
            " 3   USO      2290 non-null   float64\n",
            " 4   SLV      2290 non-null   float64\n",
            " 5   EUR/USD  2290 non-null   float64\n",
            "dtypes: float64(5), object(1)\n",
            "memory usage: 107.5+ KB\n"
          ],
          "name": "stdout"
        }
      ]
    },
    {
      "cell_type": "code",
      "metadata": {
        "colab": {
          "base_uri": "https://localhost:8080/"
        },
        "id": "fycWMA8Rp2EL",
        "outputId": "2b64f9f4-a3da-4893-96e5-08421924a0e6"
      },
      "source": [
        "#checking number of missing values\n",
        "gold_data.isnull().sum()"
      ],
      "execution_count": null,
      "outputs": [
        {
          "output_type": "execute_result",
          "data": {
            "text/plain": [
              "Date       0\n",
              "SPX        0\n",
              "GLD        0\n",
              "USO        0\n",
              "SLV        0\n",
              "EUR/USD    0\n",
              "dtype: int64"
            ]
          },
          "metadata": {
            "tags": []
          },
          "execution_count": 8
        }
      ]
    },
    {
      "cell_type": "code",
      "metadata": {
        "colab": {
          "base_uri": "https://localhost:8080/",
          "height": 300
        },
        "id": "2E7NGcPLqIwW",
        "outputId": "4e6bc48b-8799-4967-d700-2ed4f076d84e"
      },
      "source": [
        "#getting the statistical measures of the data\n",
        "gold_data.describe()\n"
      ],
      "execution_count": null,
      "outputs": [
        {
          "output_type": "execute_result",
          "data": {
            "text/html": [
              "<div>\n",
              "<style scoped>\n",
              "    .dataframe tbody tr th:only-of-type {\n",
              "        vertical-align: middle;\n",
              "    }\n",
              "\n",
              "    .dataframe tbody tr th {\n",
              "        vertical-align: top;\n",
              "    }\n",
              "\n",
              "    .dataframe thead th {\n",
              "        text-align: right;\n",
              "    }\n",
              "</style>\n",
              "<table border=\"1\" class=\"dataframe\">\n",
              "  <thead>\n",
              "    <tr style=\"text-align: right;\">\n",
              "      <th></th>\n",
              "      <th>SPX</th>\n",
              "      <th>GLD</th>\n",
              "      <th>USO</th>\n",
              "      <th>SLV</th>\n",
              "      <th>EUR/USD</th>\n",
              "    </tr>\n",
              "  </thead>\n",
              "  <tbody>\n",
              "    <tr>\n",
              "      <th>count</th>\n",
              "      <td>2290.000000</td>\n",
              "      <td>2290.000000</td>\n",
              "      <td>2290.000000</td>\n",
              "      <td>2290.000000</td>\n",
              "      <td>2290.000000</td>\n",
              "    </tr>\n",
              "    <tr>\n",
              "      <th>mean</th>\n",
              "      <td>1654.315776</td>\n",
              "      <td>122.732875</td>\n",
              "      <td>31.842221</td>\n",
              "      <td>20.084997</td>\n",
              "      <td>1.283653</td>\n",
              "    </tr>\n",
              "    <tr>\n",
              "      <th>std</th>\n",
              "      <td>519.111540</td>\n",
              "      <td>23.283346</td>\n",
              "      <td>19.523517</td>\n",
              "      <td>7.092566</td>\n",
              "      <td>0.131547</td>\n",
              "    </tr>\n",
              "    <tr>\n",
              "      <th>min</th>\n",
              "      <td>676.530029</td>\n",
              "      <td>70.000000</td>\n",
              "      <td>7.960000</td>\n",
              "      <td>8.850000</td>\n",
              "      <td>1.039047</td>\n",
              "    </tr>\n",
              "    <tr>\n",
              "      <th>25%</th>\n",
              "      <td>1239.874969</td>\n",
              "      <td>109.725000</td>\n",
              "      <td>14.380000</td>\n",
              "      <td>15.570000</td>\n",
              "      <td>1.171313</td>\n",
              "    </tr>\n",
              "    <tr>\n",
              "      <th>50%</th>\n",
              "      <td>1551.434998</td>\n",
              "      <td>120.580002</td>\n",
              "      <td>33.869999</td>\n",
              "      <td>17.268500</td>\n",
              "      <td>1.303296</td>\n",
              "    </tr>\n",
              "    <tr>\n",
              "      <th>75%</th>\n",
              "      <td>2073.010070</td>\n",
              "      <td>132.840004</td>\n",
              "      <td>37.827501</td>\n",
              "      <td>22.882499</td>\n",
              "      <td>1.369971</td>\n",
              "    </tr>\n",
              "    <tr>\n",
              "      <th>max</th>\n",
              "      <td>2872.870117</td>\n",
              "      <td>184.589996</td>\n",
              "      <td>117.480003</td>\n",
              "      <td>47.259998</td>\n",
              "      <td>1.598798</td>\n",
              "    </tr>\n",
              "  </tbody>\n",
              "</table>\n",
              "</div>"
            ],
            "text/plain": [
              "               SPX          GLD          USO          SLV      EUR/USD\n",
              "count  2290.000000  2290.000000  2290.000000  2290.000000  2290.000000\n",
              "mean   1654.315776   122.732875    31.842221    20.084997     1.283653\n",
              "std     519.111540    23.283346    19.523517     7.092566     0.131547\n",
              "min     676.530029    70.000000     7.960000     8.850000     1.039047\n",
              "25%    1239.874969   109.725000    14.380000    15.570000     1.171313\n",
              "50%    1551.434998   120.580002    33.869999    17.268500     1.303296\n",
              "75%    2073.010070   132.840004    37.827501    22.882499     1.369971\n",
              "max    2872.870117   184.589996   117.480003    47.259998     1.598798"
            ]
          },
          "metadata": {
            "tags": []
          },
          "execution_count": 9
        }
      ]
    },
    {
      "cell_type": "markdown",
      "metadata": {
        "id": "gzcBmHETqrsc"
      },
      "source": [
        "correleation:\n",
        "  1.positive correlation\n",
        "  2.Negative correlation"
      ]
    },
    {
      "cell_type": "code",
      "metadata": {
        "id": "UcAkYlGVq5Sv"
      },
      "source": [
        "correlation = gold_data.corr()"
      ],
      "execution_count": null,
      "outputs": []
    },
    {
      "cell_type": "code",
      "metadata": {
        "colab": {
          "base_uri": "https://localhost:8080/",
          "height": 487
        },
        "id": "Z1zrITY3rVkA",
        "outputId": "392707fd-52ba-49fa-dca1-71691b1af8a4"
      },
      "source": [
        "#constructing a heatmap to understand the correlation\n",
        "plt.figure(figsize = (8,8))\n",
        "sns.heatmap(correlation, cbar=True, square=True, fmt='.1f',annot=True, annot_kws={'size':8}, cmap='Blues')"
      ],
      "execution_count": null,
      "outputs": [
        {
          "output_type": "execute_result",
          "data": {
            "text/plain": [
              "<matplotlib.axes._subplots.AxesSubplot at 0x7fc9717b6ed0>"
            ]
          },
          "metadata": {
            "tags": []
          },
          "execution_count": 14
        },
        {
          "output_type": "display_data",
          "data": {
            "image/png": "[encoded data removed]",
            "text/plain": [
              "<Figure size 576x576 with 2 Axes>"
            ]
          },
          "metadata": {
            "tags": [],
            "needs_background": "light"
          }
        }
      ]
    },
    {
      "cell_type": "code",
      "metadata": {
        "colab": {
          "base_uri": "https://localhost:8080/"
        },
        "id": "j6As_CwrsSLn",
        "outputId": "77a405a1-a43b-4a27-c15c-66f11a84d044"
      },
      "source": [
        "#correlation values of GLD\n",
        "\n",
        "\n",
        "print(correlation['GLD'])"
      ],
      "execution_count": null,
      "outputs": [
        {
          "output_type": "stream",
          "text": [
            "SPX        0.049345\n",
            "GLD        1.000000\n",
            "USO       -0.186360\n",
            "SLV        0.866632\n",
            "EUR/USD   -0.024375\n",
            "Name: GLD, dtype: float64\n"
          ],
          "name": "stdout"
        }
      ]
    },
    {
      "cell_type": "code",
      "metadata": {
        "colab": {
          "base_uri": "https://localhost:8080/",
          "height": 386
        },
        "id": "IB1yjm7BufO0",
        "outputId": "e4aa586b-6f64-401c-b09d-ee9568db388d"
      },
      "source": [
        "#checking the distribution of the GLD price\n",
        "sns.displot(gold_data['GLD'],color='green')"
      ],
      "execution_count": null,
      "outputs": [
        {
          "output_type": "execute_result",
          "data": {
            "text/plain": [
              "<seaborn.axisgrid.FacetGrid at 0x7fc96342c750>"
            ]
          },
          "metadata": {
            "tags": []
          },
          "execution_count": 17
        },
        {
          "output_type": "display_data",
          "data": {
            "image/png": "[encoded data removed]",
            "text/plain": [
              "<Figure size 360x360 with 1 Axes>"
            ]
          },
          "metadata": {
            "tags": [],
            "needs_background": "light"
          }
        }
      ]
    },
    {
      "cell_type": "code",
      "metadata": {
        "id": "msumLNkEu6j5"
      },
      "source": [
        ""
      ],
      "execution_count": null,
      "outputs": []
    },
    {
      "cell_type": "markdown",
      "metadata": {
        "id": "IlJ29zGwvha6"
      },
      "source": [
        "splitting the features and target (gold and date)"
      ]
    },
    {
      "cell_type": "code",
      "metadata": {
        "id": "Odn7sAYgvl7x"
      },
      "source": [
        "X=gold_data.drop(['Date','GLD'],axis=1)\n",
        "Y=gold_data['GLD']"
      ],
      "execution_count": null,
      "outputs": []
    },
    {
      "cell_type": "code",
      "metadata": {
        "colab": {
          "base_uri": "https://localhost:8080/"
        },
        "id": "B9gErKg5wEzt",
        "outputId": "c47fb401-f3b8-41ae-93df-152d30ab9342"
      },
      "source": [
        "print(X)"
      ],
      "execution_count": null,
      "outputs": [
        {
          "output_type": "stream",
          "text": [
            "              SPX        USO      SLV   EUR/USD\n",
            "0     1447.160034  78.470001  15.1800  1.471692\n",
            "1     1447.160034  78.370003  15.2850  1.474491\n",
            "2     1411.630005  77.309998  15.1670  1.475492\n",
            "3     1416.180054  75.500000  15.0530  1.468299\n",
            "4     1390.189941  76.059998  15.5900  1.557099\n",
            "...           ...        ...      ...       ...\n",
            "2285  2671.919922  14.060000  15.5100  1.186789\n",
            "2286  2697.790039  14.370000  15.5300  1.184722\n",
            "2287  2723.070068  14.410000  15.7400  1.191753\n",
            "2288  2730.129883  14.380000  15.5600  1.193118\n",
            "2289  2725.780029  14.405800  15.4542  1.182033\n",
            "\n",
            "[2290 rows x 4 columns]\n"
          ],
          "name": "stdout"
        }
      ]
    },
    {
      "cell_type": "code",
      "metadata": {
        "colab": {
          "base_uri": "https://localhost:8080/"
        },
        "id": "z57faUHOwIWh",
        "outputId": "ba4d96e7-dc13-4249-9311-11beb46de18e"
      },
      "source": [
        "print(Y)"
      ],
      "execution_count": null,
      "outputs": [
        {
          "output_type": "stream",
          "text": [
            "0        84.860001\n",
            "1        85.570000\n",
            "2        85.129997\n",
            "3        84.769997\n",
            "4        86.779999\n",
            "           ...    \n",
            "2285    124.589996\n",
            "2286    124.330002\n",
            "2287    125.180000\n",
            "2288    124.489998\n",
            "2289    122.543800\n",
            "Name: GLD, Length: 2290, dtype: float64\n"
          ],
          "name": "stdout"
        }
      ]
    },
    {
      "cell_type": "code",
      "metadata": {
        "id": "Kq8HCwVSwNQ1"
      },
      "source": [
        ""
      ],
      "execution_count": null,
      "outputs": []
    },
    {
      "cell_type": "markdown",
      "metadata": {
        "id": "MAMDSw1qwhQX"
      },
      "source": [
        "splitting into training data and test data "
      ]
    },
    {
      "cell_type": "code",
      "metadata": {
        "id": "sV6CopO6wxH5"
      },
      "source": [
        "X_train, X_test, Y_train, Y_test = train_test_split(X,Y, test_size = 0.2, random_state=2)"
      ],
      "execution_count": null,
      "outputs": []
    },
    {
      "cell_type": "code",
      "metadata": {
        "id": "CgU57YJpyGiW"
      },
      "source": [
        ""
      ],
      "execution_count": null,
      "outputs": []
    },
    {
      "cell_type": "markdown",
      "metadata": {
        "id": "-x2s69SmyIZk"
      },
      "source": [
        "model Training:\n",
        "Random forest  Regressor \n"
      ]
    },
    {
      "cell_type": "code",
      "metadata": {
        "id": "0UE-pTJnyPUQ"
      },
      "source": [
        "regressor = RandomForestRegressor(n_estimators=100)"
      ],
      "execution_count": null,
      "outputs": []
    },
    {
      "cell_type": "code",
      "metadata": {
        "colab": {
          "base_uri": "https://localhost:8080/"
        },
        "id": "YtTt3RK_zfpj",
        "outputId": "98a8f223-ef9a-496f-b877-402c2bbe5e5b"
      },
      "source": [
        "#training the model\n",
        "regressor.fit(X_train,Y_train)"
      ],
      "execution_count": null,
      "outputs": [
        {
          "output_type": "execute_result",
          "data": {
            "text/plain": [
              "RandomForestRegressor(bootstrap=True, ccp_alpha=0.0, criterion='mse',\n",
              "                      max_depth=None, max_features='auto', max_leaf_nodes=None,\n",
              "                      max_samples=None, min_impurity_decrease=0.0,\n",
              "                      min_impurity_split=None, min_samples_leaf=1,\n",
              "                      min_samples_split=2, min_weight_fraction_leaf=0.0,\n",
              "                      n_estimators=100, n_jobs=None, oob_score=False,\n",
              "                      random_state=None, verbose=0, warm_start=False)"
            ]
          },
          "metadata": {
            "tags": []
          },
          "execution_count": 23
        }
      ]
    },
    {
      "cell_type": "code",
      "metadata": {
        "id": "-SlSF6TSztxI"
      },
      "source": [
        ""
      ],
      "execution_count": null,
      "outputs": []
    },
    {
      "cell_type": "markdown",
      "metadata": {
        "id": "MyIGHB1dzz2E"
      },
      "source": [
        "Model evaluation"
      ]
    },
    {
      "cell_type": "code",
      "metadata": {
        "id": "xUA5sma4z2ii"
      },
      "source": [
        "#prediction on Test Data\n",
        "test_data_prediction=regressor.predict(X_test)"
      ],
      "execution_count": null,
      "outputs": []
    },
    {
      "cell_type": "code",
      "metadata": {
        "colab": {
          "base_uri": "https://localhost:8080/"
        },
        "id": "MlIO9_GK0KEv",
        "outputId": "086e9a4e-38bb-4b52-8f62-1453d9d94949"
      },
      "source": [
        "print(test_data_prediction)"
      ],
      "execution_count": null,
      "outputs": [
        {
          "output_type": "stream",
          "text": [
            "[168.68449967  82.02389996 116.17810003 127.66170085 120.82890131\n",
            " 154.74819774 150.15929927 126.16140027 117.41029883 125.87800101\n",
            " 116.76950108 171.5890007  141.95409882 168.19929899 115.20049982\n",
            " 117.73670044 136.97140352 170.11210059 159.4500027  157.45339942\n",
            " 154.89170025 125.39660044 176.23649954 156.45690328 125.15760044\n",
            "  93.9111996   77.66950018 120.59830016 118.9816988  167.45359896\n",
            "  88.27430047 125.25120009  91.15660076 117.75820031 121.0192995\n",
            " 136.67070118 115.47530089 114.43630084 147.97420017 107.13990098\n",
            " 104.36130255  87.19379803 126.56630038 117.81100012 153.80609928\n",
            " 119.77190019 108.33689983 107.87419829  93.25400027 126.90859838\n",
            "  74.60200045 113.55529902 121.35750032 111.32749967 118.78259883\n",
            " 120.56659931 160.07999953 167.69060091 146.90879667  86.03669908\n",
            "  94.46580049  86.77199867  90.62890026 118.96330092 126.43820105\n",
            " 127.61669982 169.79350018 122.20339955 117.3561993   98.27080023\n",
            " 168.61100102 142.87829841 131.9266033  121.18900208 120.70209943\n",
            " 119.81500057 114.59180187 118.62500059 107.20710086 127.95230093\n",
            " 113.76389977 107.06070015 116.98160058 119.65559866  89.1104009\n",
            "  88.34319904 147.17070203 127.16500038 113.74770036 110.25619834\n",
            " 108.41749885  77.43649904 169.87380201 114.17069943 121.6948989\n",
            " 127.99960115 154.8721983   91.7199993  136.3751013  159.18670348\n",
            " 124.47940072 125.16610027 130.15300193 114.99240132 119.79239996\n",
            "  92.09749982 110.62179901 167.55419919 157.94009905 114.42479969\n",
            " 106.75170118  79.61849957 113.3078004  125.80910064 107.32459932\n",
            " 119.68110081 156.13920392 159.49079918 120.19730016 135.02050271\n",
            " 101.44129995 117.56709819 119.24910034 113.06220088 102.76549919\n",
            " 160.18629823  99.02350025 147.89979897 125.65220097 169.70719941\n",
            " 125.76319876 127.31299759 127.43990139 113.85509933 112.60550072\n",
            " 123.643299   102.09989874  89.42039993 124.5853997  101.61509923\n",
            " 107.21979932 113.33880089 117.20840056  99.02449949 121.70770046\n",
            " 163.8007989   87.47029895 106.52219966 116.93770106 127.7486011\n",
            " 124.14610049  80.77819901 120.68200067 158.87759804  87.9658998\n",
            " 110.17469988 118.70489925 172.5307984  103.06559906 105.33810022\n",
            " 122.80670048 158.88769781  87.63849842  93.10080041 112.7066005\n",
            " 177.18359975 114.05389975 119.23850022  94.60920094 125.4568\n",
            " 166.2639006  114.79080043 116.48660139  88.30239884 149.55870083\n",
            " 120.31389971  89.32329984 112.22320006 117.52550016 118.75680106\n",
            "  88.04179935  94.07690013 116.99959999 118.74670211 120.34000094\n",
            " 126.72729835 121.83909961 147.83840026 164.82509981 118.55569972\n",
            " 120.32310175 151.25430102 118.56999921 172.58109838 105.30009928\n",
            " 105.00220059 150.11530103 113.54730116 124.77520086 147.95020051\n",
            " 119.75630129 115.49720053 112.70910013 113.45340173 141.96240134\n",
            " 117.7650977  102.95310047 115.81740104 103.94700204  98.56550042\n",
            " 117.43340099  90.75380014  91.55400059 153.69229955 102.77949977\n",
            " 154.72820079 114.28770122 138.83100151  90.13569812 115.60169971\n",
            " 114.58449933 123.03300034 121.77270013 165.21610137  92.83459979\n",
            " 135.127201   121.43629898 120.90700049 104.77760014 140.45060319\n",
            " 121.83209901 116.64780041 113.58400063 127.01209765 122.82469942\n",
            " 125.80669935 121.26220039  86.76309869 132.51220131 145.9791022\n",
            "  92.6725994  159.18219961 159.50600246 126.35929908 164.97949922\n",
            " 108.86529956 109.54000102 103.90329871  94.38880039 127.80910279\n",
            " 107.09960039 161.64299963 121.75510044 132.20719989 130.2038021\n",
            " 160.27409968  90.18799843 176.20870169 127.47270027 126.67839891\n",
            "  86.36019928 124.4944992  150.60619729  89.55320025 106.85389964\n",
            " 109.02779995  84.41309903 136.06449885 155.10220289 138.41960359\n",
            "  74.34940021 152.71120143 126.10559995 126.66710051 127.4386992\n",
            " 108.7787     156.05550057 114.64670114 116.89190147 125.13259945\n",
            " 154.00800162 121.35999979 156.38809867  92.8839007  125.44870155\n",
            " 125.80250019  87.78760045  92.11269925 126.14029967 128.2608033\n",
            " 113.15450068 117.50339717 120.95770026 127.0249978  119.46350088\n",
            " 136.20270069  93.92699962 119.8627002  113.11250096  94.20219917\n",
            " 108.83729967  87.43079936 109.24799896  89.52729982  92.46910043\n",
            " 131.55180286 162.42430092  89.36010011 119.67450089 133.23010212\n",
            " 123.81200015 128.55180191 101.9247984   88.81919868 131.9426009\n",
            " 119.48450022 108.49739972 168.00390169 115.21480033  86.57979897\n",
            " 118.90470044  91.12759968 161.59240025 116.72700086 121.46429973\n",
            " 160.21869847 119.99419949 112.97789902 108.4471985  126.73079978\n",
            "  76.23460007 103.07889972 127.78200237 121.71699933  92.54040025\n",
            " 131.85820007 118.06260094 115.64499979 154.67770305 158.91480072\n",
            " 110.04509954 154.94009856 119.12830075 160.19540061 118.36670062\n",
            " 158.68899956 115.22079948 116.65840023 150.13219882 114.84530084\n",
            " 125.62619871 165.34479934 117.60930004 125.42099959 153.24060366\n",
            " 153.37140269 132.123      114.78350035 121.19260222 125.06910062\n",
            "  89.71790048 122.99570015 154.97880206 111.70430046 106.61759974\n",
            " 161.75370186 118.37359986 165.54769972 134.27870107 114.62539994\n",
            " 153.08679941 168.77019974 114.40979979 114.0600011  158.95179909\n",
            "  85.4830985  127.07350089 128.04490081 128.87210024 124.31320059\n",
            " 123.94780071  90.42960063 153.45530039  96.97059981 137.74640001\n",
            "  89.05689923 106.96510025 115.15290019 112.29600091 124.22189902\n",
            "  91.4378984  125.38750126 162.53169903 120.08999885 165.07720062\n",
            " 126.80429806 112.14210015 127.63819941  95.00879864  91.14109985\n",
            " 103.06309911 120.92390022  82.8501997  126.27910009 160.38690456\n",
            " 117.37540098 118.45589982 120.04160002 122.72089967 120.18540123\n",
            " 121.45030023 118.2651004  107.15920003 148.5619001  126.32169845\n",
            " 115.69780059  73.8379     127.78490055 155.03130133 121.71380005\n",
            " 125.68200045  88.84430016 103.06019832 124.3260003  120.31860039\n",
            "  73.41430085 151.82830043 121.2630005  104.79519944  86.48039801\n",
            " 115.26769886 172.18109784 120.01790014 160.48839723 113.30049981\n",
            " 120.93490005 118.51890072  95.93889994 118.80289983 125.63480035\n",
            " 118.57079964  95.88830052 153.91560187 121.9668999  147.99440017\n",
            " 159.4456023  113.90340024 122.53789923 149.09579795 127.30950032\n",
            " 165.86100028 135.48709947 120.12099939 167.7284989  108.27039923\n",
            " 121.72449869 139.0859003  107.7708988 ]\n"
          ],
          "name": "stdout"
        }
      ]
    },
    {
      "cell_type": "code",
      "metadata": {
        "colab": {
          "base_uri": "https://localhost:8080/"
        },
        "id": "eg9GcWH40NP6",
        "outputId": "c2afc230-3acc-4b29-c313-3d67a558b336"
      },
      "source": [
        "#R square error\n",
        "error_score=metrics.r2_score(Y_test, test_data_prediction)\n",
        "print(\"R square error:\",error_score)"
      ],
      "execution_count": null,
      "outputs": [
        {
          "output_type": "stream",
          "text": [
            "R square error: 0.9895186991521377\n"
          ],
          "name": "stdout"
        }
      ]
    },
    {
      "cell_type": "code",
      "metadata": {
        "id": "bNUfE4tR0uY-"
      },
      "source": [
        ""
      ],
      "execution_count": null,
      "outputs": []
    },
    {
      "cell_type": "markdown",
      "metadata": {
        "id": "8NblWPJr19pt"
      },
      "source": [
        "compare the actual value and predicted values in a plot "
      ]
    },
    {
      "cell_type": "code",
      "metadata": {
        "id": "pyjD2wHF2DOd"
      },
      "source": [
        "#Y_test to list convertion so we dont get errors \n",
        "Y_test=list(Y_test)"
      ],
      "execution_count": null,
      "outputs": []
    },
    {
      "cell_type": "code",
      "metadata": {
        "colab": {
          "base_uri": "https://localhost:8080/",
          "height": 295
        },
        "id": "-mH5V0NC2T4d",
        "outputId": "0f2f11bc-5bc8-485b-9f9b-a09ee714294f"
      },
      "source": [
        "plt.plot(Y_test, color='blue', label='Actual value')\n",
        "plt.plot(test_data_prediction, color='green',label='predicted value')\n",
        "plt.title('Actual price vs predicted price')\n",
        "plt.xlabel('Number of values')\n",
        "plt.ylabel('GLD price')\n",
        "plt.legend()\n",
        "plt.show()"
      ],
      "execution_count": 46,
      "outputs": [
        {
          "output_type": "display_data",
          "data": {
            "image/png": "[encoded data removed]",
            "text/plain": [
              "<Figure size 432x288 with 1 Axes>"
            ]
          },
          "metadata": {
            "tags": [],
            "needs_background": "light"
          }
        }
      ]
    },
    {
      "cell_type": "code",
      "metadata": {
        "colab": {
          "base_uri": "https://localhost:8080/",
          "height": 621
        },
        "id": "h5OIqzPN2gH1",
        "outputId": "b23243a3-e742-4089-bbaf-44c697fe284a"
      },
      "source": [
        "gold_data.hist(figsize=(10,8))"
      ],
      "execution_count": null,
      "outputs": [
        {
          "output_type": "execute_result",
          "data": {
            "text/plain": [
              "array([[<matplotlib.axes._subplots.AxesSubplot object at 0x7fc962c6fd10>,\n",
              "        <matplotlib.axes._subplots.AxesSubplot object at 0x7fc962c29350>],\n",
              "       [<matplotlib.axes._subplots.AxesSubplot object at 0x7fc962bde9d0>,\n",
              "        <matplotlib.axes._subplots.AxesSubplot object at 0x7fc962c09b90>],\n",
              "       [<matplotlib.axes._subplots.AxesSubplot object at 0x7fc962b57710>,\n",
              "        <matplotlib.axes._subplots.AxesSubplot object at 0x7fc962b118d0>]],\n",
              "      dtype=object)"
            ]
          },
          "metadata": {
            "tags": []
          },
          "execution_count": 34
        },
        {
          "output_type": "display_data",
          "data": {
            "image/png": "[encoded data removed]",
            "text/plain": [
              "<Figure size 720x576 with 6 Axes>"
            ]
          },
          "metadata": {
            "tags": [],
            "needs_background": "light"
          }
        }
      ]
    },
    {
      "cell_type": "code",
      "metadata": {
        "id": "vG4Zt-Nd5PdZ"
      },
      "source": [
        "\n",
        "\n",
        "#Converting the date column to the proper format\n",
        "gold_data['Date'] = pd.to_datetime(gold_data['Date'])\n",
        "gold_data['Date'] = gold_data['Date'].apply(lambda x:x.date())\n"
      ],
      "execution_count": null,
      "outputs": []
    },
    {
      "cell_type": "code",
      "metadata": {
        "colab": {
          "base_uri": "https://localhost:8080/",
          "height": 394
        },
        "id": "69Eryt0n6LZ5",
        "outputId": "da68336d-09cc-4bdb-d7a9-7062cc3eebf1"
      },
      "source": [
        "gold_data.describe(include='all')"
      ],
      "execution_count": null,
      "outputs": [
        {
          "output_type": "execute_result",
          "data": {
            "text/html": [
              "<div>\n",
              "<style scoped>\n",
              "    .dataframe tbody tr th:only-of-type {\n",
              "        vertical-align: middle;\n",
              "    }\n",
              "\n",
              "    .dataframe tbody tr th {\n",
              "        vertical-align: top;\n",
              "    }\n",
              "\n",
              "    .dataframe thead th {\n",
              "        text-align: right;\n",
              "    }\n",
              "</style>\n",
              "<table border=\"1\" class=\"dataframe\">\n",
              "  <thead>\n",
              "    <tr style=\"text-align: right;\">\n",
              "      <th></th>\n",
              "      <th>Date</th>\n",
              "      <th>SPX</th>\n",
              "      <th>GLD</th>\n",
              "      <th>USO</th>\n",
              "      <th>SLV</th>\n",
              "      <th>EUR/USD</th>\n",
              "    </tr>\n",
              "  </thead>\n",
              "  <tbody>\n",
              "    <tr>\n",
              "      <th>count</th>\n",
              "      <td>2290</td>\n",
              "      <td>2290.000000</td>\n",
              "      <td>2290.000000</td>\n",
              "      <td>2290.000000</td>\n",
              "      <td>2290.000000</td>\n",
              "      <td>2290.000000</td>\n",
              "    </tr>\n",
              "    <tr>\n",
              "      <th>unique</th>\n",
              "      <td>2290</td>\n",
              "      <td>NaN</td>\n",
              "      <td>NaN</td>\n",
              "      <td>NaN</td>\n",
              "      <td>NaN</td>\n",
              "      <td>NaN</td>\n",
              "    </tr>\n",
              "    <tr>\n",
              "      <th>top</th>\n",
              "      <td>2009-06-24</td>\n",
              "      <td>NaN</td>\n",
              "      <td>NaN</td>\n",
              "      <td>NaN</td>\n",
              "      <td>NaN</td>\n",
              "      <td>NaN</td>\n",
              "    </tr>\n",
              "    <tr>\n",
              "      <th>freq</th>\n",
              "      <td>1</td>\n",
              "      <td>NaN</td>\n",
              "      <td>NaN</td>\n",
              "      <td>NaN</td>\n",
              "      <td>NaN</td>\n",
              "      <td>NaN</td>\n",
              "    </tr>\n",
              "    <tr>\n",
              "      <th>mean</th>\n",
              "      <td>NaN</td>\n",
              "      <td>1654.315776</td>\n",
              "      <td>122.732875</td>\n",
              "      <td>31.842221</td>\n",
              "      <td>20.084997</td>\n",
              "      <td>1.283653</td>\n",
              "    </tr>\n",
              "    <tr>\n",
              "      <th>std</th>\n",
              "      <td>NaN</td>\n",
              "      <td>519.111540</td>\n",
              "      <td>23.283346</td>\n",
              "      <td>19.523517</td>\n",
              "      <td>7.092566</td>\n",
              "      <td>0.131547</td>\n",
              "    </tr>\n",
              "    <tr>\n",
              "      <th>min</th>\n",
              "      <td>NaN</td>\n",
              "      <td>676.530029</td>\n",
              "      <td>70.000000</td>\n",
              "      <td>7.960000</td>\n",
              "      <td>8.850000</td>\n",
              "      <td>1.039047</td>\n",
              "    </tr>\n",
              "    <tr>\n",
              "      <th>25%</th>\n",
              "      <td>NaN</td>\n",
              "      <td>1239.874969</td>\n",
              "      <td>109.725000</td>\n",
              "      <td>14.380000</td>\n",
              "      <td>15.570000</td>\n",
              "      <td>1.171313</td>\n",
              "    </tr>\n",
              "    <tr>\n",
              "      <th>50%</th>\n",
              "      <td>NaN</td>\n",
              "      <td>1551.434998</td>\n",
              "      <td>120.580002</td>\n",
              "      <td>33.869999</td>\n",
              "      <td>17.268500</td>\n",
              "      <td>1.303296</td>\n",
              "    </tr>\n",
              "    <tr>\n",
              "      <th>75%</th>\n",
              "      <td>NaN</td>\n",
              "      <td>2073.010070</td>\n",
              "      <td>132.840004</td>\n",
              "      <td>37.827501</td>\n",
              "      <td>22.882499</td>\n",
              "      <td>1.369971</td>\n",
              "    </tr>\n",
              "    <tr>\n",
              "      <th>max</th>\n",
              "      <td>NaN</td>\n",
              "      <td>2872.870117</td>\n",
              "      <td>184.589996</td>\n",
              "      <td>117.480003</td>\n",
              "      <td>47.259998</td>\n",
              "      <td>1.598798</td>\n",
              "    </tr>\n",
              "  </tbody>\n",
              "</table>\n",
              "</div>"
            ],
            "text/plain": [
              "              Date          SPX  ...          SLV      EUR/USD\n",
              "count         2290  2290.000000  ...  2290.000000  2290.000000\n",
              "unique        2290          NaN  ...          NaN          NaN\n",
              "top     2009-06-24          NaN  ...          NaN          NaN\n",
              "freq             1          NaN  ...          NaN          NaN\n",
              "mean           NaN  1654.315776  ...    20.084997     1.283653\n",
              "std            NaN   519.111540  ...     7.092566     0.131547\n",
              "min            NaN   676.530029  ...     8.850000     1.039047\n",
              "25%            NaN  1239.874969  ...    15.570000     1.171313\n",
              "50%            NaN  1551.434998  ...    17.268500     1.303296\n",
              "75%            NaN  2073.010070  ...    22.882499     1.369971\n",
              "max            NaN  2872.870117  ...    47.259998     1.598798\n",
              "\n",
              "[11 rows x 6 columns]"
            ]
          },
          "metadata": {
            "tags": []
          },
          "execution_count": 37
        }
      ]
    },
    {
      "cell_type": "code",
      "metadata": {
        "id": "N6IFGEbZ6rEb"
      },
      "source": [
        "\n",
        "\n",
        "#Creating a year column just for some data visualization\n",
        "gold_data['Year'] =gold_data['Date'].apply(lambda x: x.year)\n",
        "\n"
      ],
      "execution_count": null,
      "outputs": []
    },
    {
      "cell_type": "code",
      "metadata": {
        "colab": {
          "base_uri": "https://localhost:8080/"
        },
        "id": "WdSrwTff62Uq",
        "outputId": "c8bb7a4b-4b3e-4aed-cf25-e04eca4990fe"
      },
      "source": [
        "gold_data['Year'].value_counts()"
      ],
      "execution_count": null,
      "outputs": [
        {
          "output_type": "execute_result",
          "data": {
            "text/plain": [
              "2009    224\n",
              "2014    224\n",
              "2015    223\n",
              "2011    222\n",
              "2010    222\n",
              "2013    221\n",
              "2016    221\n",
              "2012    219\n",
              "2017    218\n",
              "2008    209\n",
              "2018     87\n",
              "Name: Year, dtype: int64"
            ]
          },
          "metadata": {
            "tags": []
          },
          "execution_count": 40
        }
      ]
    },
    {
      "cell_type": "code",
      "metadata": {
        "colab": {
          "base_uri": "https://localhost:8080/",
          "height": 296
        },
        "id": "8cYu6bOk7AZt",
        "outputId": "79f9cfe9-f681-47ff-9085-05012a44a360"
      },
      "source": [
        "#We can see how the maximum gold value changed from 2008 to 2018\n",
        "gold_data.groupby('Year').max()['GLD'].plot()"
      ],
      "execution_count": null,
      "outputs": [
        {
          "output_type": "execute_result",
          "data": {
            "text/plain": [
              "<matplotlib.axes._subplots.AxesSubplot at 0x7fc962dbbc10>"
            ]
          },
          "metadata": {
            "tags": []
          },
          "execution_count": 42
        },
        {
          "output_type": "display_data",
          "data": {
            "image/png": "[encoded data removed]",
            "text/plain": [
              "<Figure size 432x288 with 1 Axes>"
            ]
          },
          "metadata": {
            "tags": [],
            "needs_background": "light"
          }
        }
      ]
    }
  ]
}